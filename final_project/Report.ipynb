{
 "cells": [
  {
   "cell_type": "markdown",
   "metadata": {},
   "source": [
    "## Data Exploration"
   ]
  },
  {
   "cell_type": "code",
   "execution_count": 1,
   "metadata": {},
   "outputs": [],
   "source": [
    "%config IPCompleter.greedy=True\n",
    "%matplotlib inline\n",
    "import sys\n",
    "import os\n",
    "import pickle\n",
    "import pandas as pd\n",
    "from sklearn.feature_selection import SelectKBest, chi2, f_classif\n",
    "from sklearn.cross_validation import train_test_split\n",
    "from sklearn.grid_search import GridSearchCV\n",
    "sys.path.append(\"../regression/\")\n",
    "import finance_regression\n",
    "sys.path.append(\"../tools/\")\n",
    "from feature_format import featureFormat, targetFeatureSplit\n",
    "from tester import dump_classifier_and_data\n",
    "\n",
    "with open(\"final_project_dataset.pkl\", \"r\") as data_file:\n",
    "    data_dict = pickle.load(data_file)"
   ]
  },
  {
   "cell_type": "code",
   "execution_count": 2,
   "metadata": {},
   "outputs": [],
   "source": [
    "#Create dataframe from dictionary to quickly explore our data, check types/values, visualize\n",
    "data_df = pd.DataFrame(data_dict)\n",
    "data_df = data_df.transpose()\n",
    "\n",
    "#Force types\n",
    "numeric_features = [col for col in data_df.columns if col not in ['poi', 'email_address']]\n",
    "for col in numeric_features:\n",
    "    data_df[col] = data_df[col].apply(lambda c: pd.to_numeric(c, errors='coerce'))"
   ]
  },
  {
   "cell_type": "code",
   "execution_count": 3,
   "metadata": {},
   "outputs": [
    {
     "data": {
      "text/html": [
       "<div>\n",
       "<table border=\"1\" class=\"dataframe\">\n",
       "  <thead>\n",
       "    <tr style=\"text-align: right;\">\n",
       "      <th></th>\n",
       "      <th>bonus</th>\n",
       "      <th>deferral_payments</th>\n",
       "      <th>deferred_income</th>\n",
       "      <th>director_fees</th>\n",
       "      <th>email_address</th>\n",
       "      <th>exercised_stock_options</th>\n",
       "      <th>expenses</th>\n",
       "      <th>from_messages</th>\n",
       "      <th>from_poi_to_this_person</th>\n",
       "      <th>from_this_person_to_poi</th>\n",
       "      <th>...</th>\n",
       "      <th>long_term_incentive</th>\n",
       "      <th>other</th>\n",
       "      <th>poi</th>\n",
       "      <th>restricted_stock</th>\n",
       "      <th>restricted_stock_deferred</th>\n",
       "      <th>salary</th>\n",
       "      <th>shared_receipt_with_poi</th>\n",
       "      <th>to_messages</th>\n",
       "      <th>total_payments</th>\n",
       "      <th>total_stock_value</th>\n",
       "    </tr>\n",
       "  </thead>\n",
       "  <tbody>\n",
       "    <tr>\n",
       "      <th>LEMAISTRE CHARLES</th>\n",
       "      <td>NaN</td>\n",
       "      <td>NaN</td>\n",
       "      <td>-25000.0</td>\n",
       "      <td>112492.0</td>\n",
       "      <td>NaN</td>\n",
       "      <td>412878.0</td>\n",
       "      <td>NaN</td>\n",
       "      <td>NaN</td>\n",
       "      <td>NaN</td>\n",
       "      <td>NaN</td>\n",
       "      <td>...</td>\n",
       "      <td>NaN</td>\n",
       "      <td>NaN</td>\n",
       "      <td>False</td>\n",
       "      <td>NaN</td>\n",
       "      <td>NaN</td>\n",
       "      <td>NaN</td>\n",
       "      <td>NaN</td>\n",
       "      <td>NaN</td>\n",
       "      <td>87492.0</td>\n",
       "      <td>412878.0</td>\n",
       "    </tr>\n",
       "    <tr>\n",
       "      <th>LEFF DANIEL P</th>\n",
       "      <td>1000000.0</td>\n",
       "      <td>NaN</td>\n",
       "      <td>NaN</td>\n",
       "      <td>NaN</td>\n",
       "      <td>dan.leff@enron.com</td>\n",
       "      <td>NaN</td>\n",
       "      <td>NaN</td>\n",
       "      <td>63.0</td>\n",
       "      <td>67.0</td>\n",
       "      <td>14.0</td>\n",
       "      <td>...</td>\n",
       "      <td>1387399.0</td>\n",
       "      <td>3083.0</td>\n",
       "      <td>False</td>\n",
       "      <td>360528.0</td>\n",
       "      <td>NaN</td>\n",
       "      <td>273746.0</td>\n",
       "      <td>2672.0</td>\n",
       "      <td>2822.0</td>\n",
       "      <td>2664228.0</td>\n",
       "      <td>360528.0</td>\n",
       "    </tr>\n",
       "    <tr>\n",
       "      <th>BAZELIDES PHILIP J</th>\n",
       "      <td>NaN</td>\n",
       "      <td>684694.0</td>\n",
       "      <td>NaN</td>\n",
       "      <td>NaN</td>\n",
       "      <td>NaN</td>\n",
       "      <td>1599641.0</td>\n",
       "      <td>NaN</td>\n",
       "      <td>NaN</td>\n",
       "      <td>NaN</td>\n",
       "      <td>NaN</td>\n",
       "      <td>...</td>\n",
       "      <td>93750.0</td>\n",
       "      <td>874.0</td>\n",
       "      <td>False</td>\n",
       "      <td>NaN</td>\n",
       "      <td>NaN</td>\n",
       "      <td>80818.0</td>\n",
       "      <td>NaN</td>\n",
       "      <td>NaN</td>\n",
       "      <td>860136.0</td>\n",
       "      <td>1599641.0</td>\n",
       "    </tr>\n",
       "    <tr>\n",
       "      <th>CARTER REBECCA C</th>\n",
       "      <td>300000.0</td>\n",
       "      <td>NaN</td>\n",
       "      <td>-159792.0</td>\n",
       "      <td>NaN</td>\n",
       "      <td>rebecca.carter@enron.com</td>\n",
       "      <td>NaN</td>\n",
       "      <td>NaN</td>\n",
       "      <td>15.0</td>\n",
       "      <td>29.0</td>\n",
       "      <td>7.0</td>\n",
       "      <td>...</td>\n",
       "      <td>75000.0</td>\n",
       "      <td>540.0</td>\n",
       "      <td>False</td>\n",
       "      <td>307301.0</td>\n",
       "      <td>-307301.0</td>\n",
       "      <td>261809.0</td>\n",
       "      <td>196.0</td>\n",
       "      <td>312.0</td>\n",
       "      <td>477557.0</td>\n",
       "      <td>NaN</td>\n",
       "    </tr>\n",
       "    <tr>\n",
       "      <th>GOLD JOSEPH</th>\n",
       "      <td>750000.0</td>\n",
       "      <td>NaN</td>\n",
       "      <td>NaN</td>\n",
       "      <td>NaN</td>\n",
       "      <td>joe.gold@enron.com</td>\n",
       "      <td>436515.0</td>\n",
       "      <td>NaN</td>\n",
       "      <td>NaN</td>\n",
       "      <td>NaN</td>\n",
       "      <td>NaN</td>\n",
       "      <td>...</td>\n",
       "      <td>304805.0</td>\n",
       "      <td>819288.0</td>\n",
       "      <td>False</td>\n",
       "      <td>441096.0</td>\n",
       "      <td>NaN</td>\n",
       "      <td>272880.0</td>\n",
       "      <td>NaN</td>\n",
       "      <td>NaN</td>\n",
       "      <td>2146973.0</td>\n",
       "      <td>877611.0</td>\n",
       "    </tr>\n",
       "  </tbody>\n",
       "</table>\n",
       "<p>5 rows × 21 columns</p>\n",
       "</div>"
      ],
      "text/plain": [
       "                        bonus  deferral_payments  deferred_income  \\\n",
       "LEMAISTRE CHARLES         NaN                NaN         -25000.0   \n",
       "LEFF DANIEL P       1000000.0                NaN              NaN   \n",
       "BAZELIDES PHILIP J        NaN           684694.0              NaN   \n",
       "CARTER REBECCA C     300000.0                NaN        -159792.0   \n",
       "GOLD JOSEPH          750000.0                NaN              NaN   \n",
       "\n",
       "                    director_fees             email_address  \\\n",
       "LEMAISTRE CHARLES        112492.0                       NaN   \n",
       "LEFF DANIEL P                 NaN        dan.leff@enron.com   \n",
       "BAZELIDES PHILIP J            NaN                       NaN   \n",
       "CARTER REBECCA C              NaN  rebecca.carter@enron.com   \n",
       "GOLD JOSEPH                   NaN        joe.gold@enron.com   \n",
       "\n",
       "                    exercised_stock_options  expenses  from_messages  \\\n",
       "LEMAISTRE CHARLES                  412878.0       NaN            NaN   \n",
       "LEFF DANIEL P                           NaN       NaN           63.0   \n",
       "BAZELIDES PHILIP J                1599641.0       NaN            NaN   \n",
       "CARTER REBECCA C                        NaN       NaN           15.0   \n",
       "GOLD JOSEPH                        436515.0       NaN            NaN   \n",
       "\n",
       "                    from_poi_to_this_person  from_this_person_to_poi  \\\n",
       "LEMAISTRE CHARLES                       NaN                      NaN   \n",
       "LEFF DANIEL P                          67.0                     14.0   \n",
       "BAZELIDES PHILIP J                      NaN                      NaN   \n",
       "CARTER REBECCA C                       29.0                      7.0   \n",
       "GOLD JOSEPH                             NaN                      NaN   \n",
       "\n",
       "                          ...          long_term_incentive     other    poi  \\\n",
       "LEMAISTRE CHARLES         ...                          NaN       NaN  False   \n",
       "LEFF DANIEL P             ...                    1387399.0    3083.0  False   \n",
       "BAZELIDES PHILIP J        ...                      93750.0     874.0  False   \n",
       "CARTER REBECCA C          ...                      75000.0     540.0  False   \n",
       "GOLD JOSEPH               ...                     304805.0  819288.0  False   \n",
       "\n",
       "                   restricted_stock  restricted_stock_deferred    salary  \\\n",
       "LEMAISTRE CHARLES               NaN                        NaN       NaN   \n",
       "LEFF DANIEL P              360528.0                        NaN  273746.0   \n",
       "BAZELIDES PHILIP J              NaN                        NaN   80818.0   \n",
       "CARTER REBECCA C           307301.0                  -307301.0  261809.0   \n",
       "GOLD JOSEPH                441096.0                        NaN  272880.0   \n",
       "\n",
       "                    shared_receipt_with_poi  to_messages  total_payments  \\\n",
       "LEMAISTRE CHARLES                       NaN          NaN         87492.0   \n",
       "LEFF DANIEL P                        2672.0       2822.0       2664228.0   \n",
       "BAZELIDES PHILIP J                      NaN          NaN        860136.0   \n",
       "CARTER REBECCA C                      196.0        312.0        477557.0   \n",
       "GOLD JOSEPH                             NaN          NaN       2146973.0   \n",
       "\n",
       "                    total_stock_value  \n",
       "LEMAISTRE CHARLES            412878.0  \n",
       "LEFF DANIEL P                360528.0  \n",
       "BAZELIDES PHILIP J          1599641.0  \n",
       "CARTER REBECCA C                  NaN  \n",
       "GOLD JOSEPH                  877611.0  \n",
       "\n",
       "[5 rows x 21 columns]"
      ]
     },
     "execution_count": 3,
     "metadata": {},
     "output_type": "execute_result"
    }
   ],
   "source": [
    "data_df.sample(5)"
   ]
  },
  {
   "cell_type": "code",
   "execution_count": 4,
   "metadata": {},
   "outputs": [
    {
     "name": "stdout",
     "output_type": "stream",
     "text": [
      "<class 'pandas.core.frame.DataFrame'>\n",
      "Index: 146 entries, ALLEN PHILLIP K to YEAP SOON\n",
      "Data columns (total 21 columns):\n",
      "bonus                        82 non-null float64\n",
      "deferral_payments            39 non-null float64\n",
      "deferred_income              49 non-null float64\n",
      "director_fees                17 non-null float64\n",
      "email_address                146 non-null object\n",
      "exercised_stock_options      102 non-null float64\n",
      "expenses                     95 non-null float64\n",
      "from_messages                86 non-null float64\n",
      "from_poi_to_this_person      86 non-null float64\n",
      "from_this_person_to_poi      86 non-null float64\n",
      "loan_advances                4 non-null float64\n",
      "long_term_incentive          66 non-null float64\n",
      "other                        93 non-null float64\n",
      "poi                          146 non-null object\n",
      "restricted_stock             110 non-null float64\n",
      "restricted_stock_deferred    18 non-null float64\n",
      "salary                       95 non-null float64\n",
      "shared_receipt_with_poi      86 non-null float64\n",
      "to_messages                  86 non-null float64\n",
      "total_payments               125 non-null float64\n",
      "total_stock_value            126 non-null float64\n",
      "dtypes: float64(19), object(2)\n",
      "memory usage: 23.4+ KB\n"
     ]
    }
   ],
   "source": [
    "data_df.info(verbose='True')"
   ]
  },
  {
   "cell_type": "markdown",
   "metadata": {},
   "source": [
    "We see that we have 146 entries in our dataframe, meaning that we have 146 training points.  \n",
    "One column gives me one feature. There are 21 features. *POI* and *email_address* are of type string. All the other features are numerical.  \n",
    "Some of our features possess some NaN values: *loan_advances*, *restricted_stock_deferred* have only 4 and 18 non NaN values respectively. So I can already exclude them from my features selection."
   ]
  },
  {
   "cell_type": "code",
   "execution_count": 5,
   "metadata": {},
   "outputs": [
    {
     "name": "stdout",
     "output_type": "stream",
     "text": [
      "<class 'pandas.core.frame.DataFrame'>\n",
      "Index: 18 entries, BELDEN TIMOTHY N to YEAGER F SCOTT\n",
      "Data columns (total 21 columns):\n",
      "bonus                        16 non-null float64\n",
      "deferral_payments            5 non-null float64\n",
      "deferred_income              11 non-null float64\n",
      "director_fees                0 non-null float64\n",
      "email_address                18 non-null object\n",
      "exercised_stock_options      12 non-null float64\n",
      "expenses                     18 non-null float64\n",
      "from_messages                14 non-null float64\n",
      "from_poi_to_this_person      14 non-null float64\n",
      "from_this_person_to_poi      14 non-null float64\n",
      "loan_advances                1 non-null float64\n",
      "long_term_incentive          12 non-null float64\n",
      "other                        18 non-null float64\n",
      "poi                          18 non-null object\n",
      "restricted_stock             17 non-null float64\n",
      "restricted_stock_deferred    0 non-null float64\n",
      "salary                       17 non-null float64\n",
      "shared_receipt_with_poi      14 non-null float64\n",
      "to_messages                  14 non-null float64\n",
      "total_payments               18 non-null float64\n",
      "total_stock_value            18 non-null float64\n",
      "dtypes: float64(19), object(2)\n",
      "memory usage: 2.9+ KB\n"
     ]
    },
    {
     "data": {
      "text/plain": [
       "NoneType"
      ]
     },
     "execution_count": 5,
     "metadata": {},
     "output_type": "execute_result"
    }
   ],
   "source": [
    "type(data_df[data_df['poi']==True].info(verbose='True'))"
   ]
  },
  {
   "cell_type": "markdown",
   "metadata": {},
   "source": [
    "In the dataset, there are 18 POIs. We don't always have features for POI without NaN values."
   ]
  },
  {
   "cell_type": "markdown",
   "metadata": {},
   "source": [
    "## Regression\n",
    "To get a first visualization of our data, let me reuse the finance_regression.py which is part of the udacity teaching materials."
   ]
  },
  {
   "cell_type": "code",
   "execution_count": 6,
   "metadata": {},
   "outputs": [
    {
     "name": "stdout",
     "output_type": "stream",
     "text": [
      "slope:  [ 5.44814029]\n",
      "intercept:  -102360.543294\n",
      "score on training data:  0.0455091926995\n",
      "score on test data:  -1.48499241737\n",
      "slope new regression line:  [ 2.27410114]\n"
     ]
    },
    {
     "data": {
      "image/png": "[encoded data removed]",
      "text/plain": [
       "<Figure size 432x288 with 1 Axes>"
      ]
     },
     "metadata": {},
     "output_type": "display_data"
    }
   ],
   "source": [
    "finance_regression.regr()"
   ]
  },
  {
   "cell_type": "markdown",
   "metadata": {},
   "source": [
    "## Features selection\n",
    "My hunch is that the following features shall be among the ones containing the most \" information\" and that they should make a good classifier:\n",
    "- financial features:\n",
    "    - bonus\n",
    "    - exercised_stock_options\n",
    "    - salary\n",
    "- mail features:\n",
    "    - from_poi_to_this_person\n",
    "    - from_this_person_to_poi\n",
    "    - shared_receipt_with_poi\n",
    "    \n",
    "To confirm it and also to be sure to select the most useful features, let me try using *sklearn.feature_selection.selectKbest*.\n",
    "And from now on I will use the imported featureFormat and targetFeatureSplit function to get my features instead of working the previously defined dataframe."
   ]
  },
  {
   "cell_type": "code",
   "execution_count": 31,
   "metadata": {},
   "outputs": [],
   "source": [
    "features_list=[col for col in data_df.columns if col not in ['email_address','poi']]\n",
    "features_list=['poi']+features_list\n",
    "data_dict.pop('TOTAL',0) # remove outlier \"TOTAL\" already identified in udacity lesson on outliers \n",
    "my_dataset = data_dict\n",
    "data = featureFormat(my_dataset, features_list, sort_keys = True)\n",
    "labels, features = targetFeatureSplit(data)"
   ]
  },
  {
   "cell_type": "markdown",
   "metadata": {},
   "source": [
    "### Univariate Selection"
   ]
  },
  {
   "cell_type": "code",
   "execution_count": 34,
   "metadata": {},
   "outputs": [],
   "source": [
    "features_new = SelectKBest(f_classif, k=6).fit_transform(features,labels) # select 6 best features\n",
    "\n",
    "#split between train and test set\n",
    "X_train, X_test, y_train, y_test = train_test_split(features_new, labels, test_size=0.2, random_state=42)"
   ]
  },
  {
   "cell_type": "markdown",
   "metadata": {},
   "source": [
    "### Try classifiers"
   ]
  },
  {
   "cell_type": "code",
   "execution_count": 35,
   "metadata": {},
   "outputs": [
    {
     "data": {
      "text/plain": [
       "0.93103448275862066"
      ]
     },
     "execution_count": 35,
     "metadata": {},
     "output_type": "execute_result"
    }
   ],
   "source": [
    "from sklearn.naive_bayes import GaussianNB\n",
    "clf = GaussianNB()\n",
    "clf.fit(X_train, y_train)\n",
    "clf.score(X_test, y_test)"
   ]
  },
  {
   "cell_type": "code",
   "execution_count": 95,
   "metadata": {},
   "outputs": [
    {
     "name": "stdout",
     "output_type": "stream",
     "text": [
      "0.724137931034\n",
      "DecisionTreeClassifier(class_weight=None, criterion='entropy', max_depth=None,\n",
      "            max_features=None, max_leaf_nodes=None, min_samples_leaf=1,\n",
      "            min_samples_split=3, min_weight_fraction_leaf=0.0,\n",
      "            presort=False, random_state=None, splitter='best')\n"
     ]
    },
    {
     "data": {
      "text/plain": [
       "[mean: 0.78261, std: 0.02983, params: {'min_samples_split': 10, 'splitter': 'best', 'criterion': 'gini'},\n",
       " mean: 0.86087, std: 0.03073, params: {'min_samples_split': 10, 'splitter': 'random', 'criterion': 'gini'},\n",
       " mean: 0.80000, std: 0.03071, params: {'min_samples_split': 5, 'splitter': 'best', 'criterion': 'gini'},\n",
       " mean: 0.76522, std: 0.05589, params: {'min_samples_split': 5, 'splitter': 'random', 'criterion': 'gini'},\n",
       " mean: 0.80870, std: 0.06065, params: {'min_samples_split': 4, 'splitter': 'best', 'criterion': 'gini'},\n",
       " mean: 0.82609, std: 0.01146, params: {'min_samples_split': 4, 'splitter': 'random', 'criterion': 'gini'},\n",
       " mean: 0.80870, std: 0.03013, params: {'min_samples_split': 3, 'splitter': 'best', 'criterion': 'gini'},\n",
       " mean: 0.80870, std: 0.03331, params: {'min_samples_split': 3, 'splitter': 'random', 'criterion': 'gini'},\n",
       " mean: 0.77391, std: 0.05382, params: {'min_samples_split': 2, 'splitter': 'best', 'criterion': 'gini'},\n",
       " mean: 0.80000, std: 0.01135, params: {'min_samples_split': 2, 'splitter': 'random', 'criterion': 'gini'},\n",
       " mean: 0.83478, std: 0.04300, params: {'min_samples_split': 10, 'splitter': 'best', 'criterion': 'entropy'},\n",
       " mean: 0.80870, std: 0.02672, params: {'min_samples_split': 10, 'splitter': 'random', 'criterion': 'entropy'},\n",
       " mean: 0.88696, std: 0.06110, params: {'min_samples_split': 5, 'splitter': 'best', 'criterion': 'entropy'},\n",
       " mean: 0.82609, std: 0.03094, params: {'min_samples_split': 5, 'splitter': 'random', 'criterion': 'entropy'},\n",
       " mean: 0.84348, std: 0.03615, params: {'min_samples_split': 4, 'splitter': 'best', 'criterion': 'entropy'},\n",
       " mean: 0.77391, std: 0.04550, params: {'min_samples_split': 4, 'splitter': 'random', 'criterion': 'entropy'},\n",
       " mean: 0.90435, std: 0.03164, params: {'min_samples_split': 3, 'splitter': 'best', 'criterion': 'entropy'},\n",
       " mean: 0.80000, std: 0.01463, params: {'min_samples_split': 3, 'splitter': 'random', 'criterion': 'entropy'},\n",
       " mean: 0.86087, std: 0.02391, params: {'min_samples_split': 2, 'splitter': 'best', 'criterion': 'entropy'},\n",
       " mean: 0.75652, std: 0.06512, params: {'min_samples_split': 2, 'splitter': 'random', 'criterion': 'entropy'}]"
      ]
     },
     "execution_count": 95,
     "metadata": {},
     "output_type": "execute_result"
    }
   ],
   "source": [
    "from sklearn.tree import DecisionTreeClassifier\n",
    "tree=DecisionTreeClassifier()\n",
    "parameters = {'criterion':['gini','entropy'],'splitter':['best','random'],'min_samples_split':[10,5,4,3,2]}\n",
    "tree_clf=GridSearchCV(tree,parameters)\n",
    "tree_clf.fit(X_train, y_train)\n",
    "print tree_clf.score(X_test, y_test)\n",
    "print tree_clf.best_estimator_\n",
    "tree_clf.grid_scores_"
   ]
  },
  {
   "cell_type": "code",
   "execution_count": 87,
   "metadata": {},
   "outputs": [
    {
     "name": "stdout",
     "output_type": "stream",
     "text": [
      "0.862068965517\n",
      "KNeighborsClassifier(algorithm='auto', leaf_size=30, metric='minkowski',\n",
      "           metric_params=None, n_jobs=1, n_neighbors=3, p=2,\n",
      "           weights='uniform')\n"
     ]
    },
    {
     "data": {
      "text/plain": [
       "[mean: 0.86087, std: 0.01050, params: {'n_neighbors': 20, 'weights': 'uniform'},\n",
       " mean: 0.86087, std: 0.01050, params: {'n_neighbors': 20, 'weights': 'distance'},\n",
       " mean: 0.86087, std: 0.01050, params: {'n_neighbors': 10, 'weights': 'uniform'},\n",
       " mean: 0.86087, std: 0.01050, params: {'n_neighbors': 10, 'weights': 'distance'},\n",
       " mean: 0.86087, std: 0.01050, params: {'n_neighbors': 5, 'weights': 'uniform'},\n",
       " mean: 0.85217, std: 0.02258, params: {'n_neighbors': 5, 'weights': 'distance'},\n",
       " mean: 0.86087, std: 0.01050, params: {'n_neighbors': 4, 'weights': 'uniform'},\n",
       " mean: 0.86087, std: 0.02391, params: {'n_neighbors': 4, 'weights': 'distance'},\n",
       " mean: 0.86957, std: 0.02260, params: {'n_neighbors': 3, 'weights': 'uniform'},\n",
       " mean: 0.86087, std: 0.01327, params: {'n_neighbors': 3, 'weights': 'distance'}]"
      ]
     },
     "execution_count": 87,
     "metadata": {},
     "output_type": "execute_result"
    }
   ],
   "source": [
    "from sklearn.neighbors import KNeighborsClassifier\n",
    "KNN=KNeighborsClassifier()\n",
    "parameters2={'n_neighbors':[20,10,5,4,3],'weights':['uniform','distance']}\n",
    "KNN_clf=GridSearchCV(KNN, parameters2)\n",
    "KNN_clf.fit(X_train, y_train)\n",
    "print KNN_clf.score(X_test, y_test)\n",
    "print KNN_clf.best_estimator_\n",
    "KNN_clf.grid_scores_"
   ]
  },
  {
   "cell_type": "code",
   "execution_count": 100,
   "metadata": {},
   "outputs": [
    {
     "name": "stdout",
     "output_type": "stream",
     "text": [
      "0.931034482759\n",
      "RandomForestClassifier(bootstrap=True, class_weight=None, criterion='entropy',\n",
      "            max_depth=None, max_features='auto', max_leaf_nodes=None,\n",
      "            min_samples_leaf=1, min_samples_split=4,\n",
      "            min_weight_fraction_leaf=0.0, n_estimators=30, n_jobs=1,\n",
      "            oob_score=False, random_state=None, verbose=0,\n",
      "            warm_start=False)\n"
     ]
    }
   ],
   "source": [
    "from sklearn.ensemble import RandomForestClassifier\n",
    "parameters3={'n_estimators':[3,4,5,10,20,30],'criterion':['gini','entropy'],'min_samples_split':[3,4,5,10,20]}\n",
    "rdm_forest=RandomForestClassifier()\n",
    "rdm_forest_clf=GridSearchCV(rdm_forest, parameters3)\n",
    "rdm_forest_clf.fit(X_train,y_train)\n",
    "print rdm_forest_clf.score(X_test,y_test)\n",
    "print rdm_forest_clf.best_estimator_"
   ]
  },
  {
   "cell_type": "code",
   "execution_count": 107,
   "metadata": {},
   "outputs": [
    {
     "name": "stdout",
     "output_type": "stream",
     "text": [
      "0.5 0.5\n",
      "[[26  1]\n",
      " [ 1  1]]\n",
      "\n",
      "0.25 0.5\n",
      "[[24  3]\n",
      " [ 1  1]]\n",
      "\n",
      "0.5 0.5\n",
      "[[26  1]\n",
      " [ 1  1]]\n",
      "\n",
      "0.5 0.5\n",
      "[[26  1]\n",
      " [ 1  1]]\n",
      "\n",
      "0.125 0.5\n",
      "[[20  7]\n",
      " [ 1  1]]\n",
      "\n"
     ]
    }
   ],
   "source": [
    "from sklearn.metrics import confusion_matrix, precision_score, recall_score\n",
    "\n",
    "for c in [clf, KNN_clf,clf, rdm_forest_clf, tree_clf]:\n",
    "    print precision_score(y_test,c.predict(X_test)), recall_score(y_test,c.predict(X_test))\n",
    "    print confusion_matrix(y_test, c.predict(X_test))\n",
    "    print"
   ]
  },
  {
   "cell_type": "markdown",
   "metadata": {},
   "source": [
    "let's retain naive bayes and random forest\n",
    "Let'svalidate by using K_fold"
   ]
  },
  {
   "cell_type": "code",
   "execution_count": null,
   "metadata": {},
   "outputs": [],
   "source": [
    "froö sklearn.cross_validation import KFold\n",
    "rdm_forest_clf=rdm_forest_clf.best_estimator_\n"
   ]
  }
 ],
 "metadata": {
  "kernelspec": {
   "display_name": "Python [conda env:DAND]",
   "language": "python",
   "name": "conda-env-DAND-py"
  },
  "language_info": {
   "codemirror_mode": {
    "name": "ipython",
    "version": 2
   },
   "file_extension": ".py",
   "mimetype": "text/x-python",
   "name": "python",
   "nbconvert_exporter": "python",
   "pygments_lexer": "ipython2",
   "version": "2.7.12"
  }
 },
 "nbformat": 4,
 "nbformat_minor": 2
}
